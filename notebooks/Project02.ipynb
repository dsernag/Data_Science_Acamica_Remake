{
 "cells": [
  {
   "cell_type": "markdown",
   "metadata": {},
   "source": [
    "# Advanced tools (Feature engineer and advance models)\n",
    "<b>By: <em>David Serna</em></b><br>\n",
    "<b><em>Data Scientist and Data Engineer</em></b>\n",
    "\n",
    "Welcome!<br>\n",
    "This is a remake of the project: https://github.com/dsernag/Data_Science_Acamica<br>\n",
    "We have a sample dataset from [Properati](www.properati.com.ar) a real estate company in Argentina. This is the second part of the project ([First Part](Project01.ipynb)). Now we pretend to make a similar exercise but implementing new tools like trying to Fill Null values, standardize variables and apply Hyper parameter tuning. Get on board this ship sailor!\n",
    "\n",
    "Here is my LinkedIn profile: [<img width=\"25px\" src=\"..\\docs\\imgs\\linkedIn_PNG32.png\" alt=\"LinkedinLogo\">](https://www.linkedin.com/in/dsernag/)\n",
    "\n",
    "This is open source code, so you can use it, but remember to be etic and if is possibly, cite it."
   ]
  },
  {
   "cell_type": "markdown",
   "metadata": {},
   "source": [
    "## Configure your environment\n",
    "\n",
    "I highly recommend to create an isolated Python environment, for sanity check, replication purposes and as a learning activity.\n",
    "### Conda environment\n",
    "\n",
    "I love [miniconda](https://docs.conda.io/en/latest/miniconda.html), is light and portable and allow an easly manipulation of environments. If you don't install conda, please at least create an independt environment in Python, here is the [documentation](https://docs.python.org/3/library/venv.html).\n",
    "\n",
    "After install miniconda, create a environment this way (This command is valid for any operating system):\n",
    "\n",
    "```bash\n",
    "conda create -n acamica python=3.9 ipykernel pandas numpy matplotlib seaborn scikit-learn -y\n",
    "```\n",
    "\n",
    "There is also a `requirements.txt` file to install via pip\n",
    "\n",
    "\n",
    "Now we are ready to begin!🚀🚀🚀\n",
    "\n",
    "<b>NOTE:</b> This notebook is not intended no be used in a row. Is intended to be executed line by line, with supervision and understanding the process.\n"
   ]
  },
  {
   "cell_type": "markdown",
   "metadata": {},
   "source": [
    "## EDA in advance"
   ]
  },
  {
   "cell_type": "markdown",
   "metadata": {},
   "source": [
    "From the previous notebook we have enough information to have a clean dataset. We are going to reuse code to solve the problem of surfaces (`total_surface` can't be greater than `cover_surface`) and select the exact same variables from the previous step.\n",
    "\n",
    "<b>WHY?</b> Because we are going to compare previous models, who were trained with a sort of hard rule feature engingeer, against the same and new models now with standardize data with more records and applying hyperparameter tuning. "
   ]
  },
  {
   "cell_type": "markdown",
   "metadata": {},
   "source": [
    "### Read database and select features"
   ]
  },
  {
   "cell_type": "code",
   "execution_count": 1,
   "metadata": {},
   "outputs": [],
   "source": [
    "# Import libraries and red the data base\n",
    "import pandas as pd\n",
    "import numpy as np\n",
    "import seaborn as sns\n",
    "import matplotlib.pyplot as plt\n",
    "\n",
    "properati_raw = pd.read_csv('../data/properati.csv', encoding = \"utf-8\")"
   ]
  },
  {
   "cell_type": "markdown",
   "metadata": {},
   "source": [
    "From previous notebook, the criteria we used was:\n",
    "\n",
    "* `property_type` must be \"Departamento\", \"PH\" or \"Casa\n",
    "* `l2` equals to \"Capital Federal\n",
    "\n",
    "And use only these variables:\n",
    "\n",
    "```python\n",
    "['l3', 'property_type', 'rooms','bedrooms','bathrooms','surface_total','surface_covered', 'price']\n",
    "```"
   ]
  },
  {
   "cell_type": "code",
   "execution_count": 2,
   "metadata": {},
   "outputs": [],
   "source": [
    "mask1 = (properati_raw['property_type'] == 'Departamento') | (properati_raw['property_type'] == 'PH') | (properati_raw['property_type'] == 'Casa')\n",
    "mask2 = properati_raw['l2'] == 'Capital Federal'\n",
    "properati_new = properati_raw.loc[mask1 & mask2]"
   ]
  },
  {
   "cell_type": "code",
   "execution_count": 3,
   "metadata": {},
   "outputs": [],
   "source": [
    "recommended_columns = ['l3', 'property_type', 'rooms','bedrooms','bathrooms','surface_total','surface_covered', 'price']\n",
    "properati_selected = properati_new[recommended_columns].reset_index(drop=True)"
   ]
  },
  {
   "cell_type": "markdown",
   "metadata": {},
   "source": [
    "### Surface issue first"
   ]
  },
  {
   "cell_type": "markdown",
   "metadata": {},
   "source": [
    "Remember that `total_surface` can't be greater than `cover_surface`"
   ]
  },
  {
   "cell_type": "code",
   "execution_count": 4,
   "metadata": {},
   "outputs": [],
   "source": [
    "# One function to validate the dataframe before and after the procedure\n",
    "def check_surfaces(dataframe):\n",
    "    condition = dataframe['surface_covered'] > dataframe['surface_total']\n",
    "    print(dataframe[condition][['surface_covered', 'surface_total']])"
   ]
  },
  {
   "cell_type": "markdown",
   "metadata": {},
   "source": [
    "In advanced I know that there are records where there is no `surface_total`  but `surface_covered` is present and vice versa. So we can create extra conditionals to reduce the amount of nulls in both columns:"
   ]
  },
  {
   "cell_type": "code",
   "execution_count": 5,
   "metadata": {},
   "outputs": [],
   "source": [
    "# Function procedual\n",
    "def solve_surface_issue(dataframe):\n",
    "    copy_df = dataframe.copy(deep = True)\n",
    "    # Conditional about size\n",
    "    condition_issue = copy_df['surface_covered'] > copy_df['surface_total']\n",
    "    surface_covered = np.where(condition_issue, copy_df['surface_total'], copy_df['surface_covered'])\n",
    "    copy_df['surface_covered'] = surface_covered\n",
    "    \n",
    "    # Conditional about nulls --> There are surface_covered but no surface_total\n",
    "    condition_nulls1 = copy_df['surface_total'].isnull() & ~copy_df['surface_covered'].isnull()\n",
    "    nulls_replaceable = np.where(condition_nulls1, copy_df['surface_covered'], copy_df['surface_total'])\n",
    "    copy_df['surface_total'] = nulls_replaceable\n",
    "\n",
    "    # Conditional about nulls --> There are surface_total but no surface_covered\n",
    "    condition_nulls2 = ~copy_df['surface_total'].isnull() & copy_df['surface_covered'].isnull()\n",
    "    nulls_replaceable = np.where(condition_nulls2, copy_df['surface_total'], copy_df['surface_covered'])\n",
    "    copy_df['surface_covered'] = nulls_replaceable\n",
    "    \n",
    "    return copy_df"
   ]
  },
  {
   "cell_type": "markdown",
   "metadata": {},
   "source": [
    "Check the database previous the process:"
   ]
  },
  {
   "cell_type": "code",
   "execution_count": 6,
   "metadata": {},
   "outputs": [
    {
     "name": "stdout",
     "output_type": "stream",
     "text": [
      "       surface_covered  surface_total\n",
      "386              244.0          230.0\n",
      "590               44.0           43.0\n",
      "635               66.0           65.0\n",
      "869               45.0           44.0\n",
      "942               79.0           78.0\n",
      "...                ...            ...\n",
      "90843             25.0           24.0\n",
      "90848             22.0           21.0\n",
      "90911             52.0           51.0\n",
      "90965            290.0          197.0\n",
      "90968            170.0          124.0\n",
      "\n",
      "[760 rows x 2 columns]\n"
     ]
    }
   ],
   "source": [
    "check_surfaces(properati_selected)"
   ]
  },
  {
   "cell_type": "markdown",
   "metadata": {},
   "source": [
    "Apply the procedual"
   ]
  },
  {
   "cell_type": "code",
   "execution_count": 7,
   "metadata": {},
   "outputs": [],
   "source": [
    "properati = solve_surface_issue(properati_selected)"
   ]
  },
  {
   "cell_type": "markdown",
   "metadata": {},
   "source": [
    "Check the database after the process:"
   ]
  },
  {
   "cell_type": "code",
   "execution_count": 8,
   "metadata": {},
   "outputs": [
    {
     "name": "stdout",
     "output_type": "stream",
     "text": [
      "Empty DataFrame\n",
      "Columns: [surface_covered, surface_total]\n",
      "Index: []\n"
     ]
    }
   ],
   "source": [
    "check_surfaces(properati)"
   ]
  },
  {
   "cell_type": "markdown",
   "metadata": {},
   "source": [
    "## Feature engineer"
   ]
  },
  {
   "cell_type": "markdown",
   "metadata": {},
   "source": [
    "### Check and impute null values"
   ]
  },
  {
   "cell_type": "code",
   "execution_count": 9,
   "metadata": {},
   "outputs": [
    {
     "name": "stdout",
     "output_type": "stream",
     "text": [
      "The column ['bathrooms'] has 2171 null values\n",
      "The column ['surface_total'] has 8718 null values\n",
      "The column ['surface_covered'] has 8718 null values\n"
     ]
    }
   ],
   "source": [
    "def print_null_values(df):\n",
    "    COLUMNS = df.columns\n",
    "    for column in COLUMNS:\n",
    "        if df[column].isnull().any() == True:\n",
    "            print(f\"The column {[column]} has {df[column].isnull().sum()} null values\")\n",
    "\n",
    "print_null_values(properati)"
   ]
  },
  {
   "cell_type": "markdown",
   "metadata": {},
   "source": [
    "To make an appropiate imputation read the documentation from scikit-learn: https://scikit-learn.org/stable/modules/impute.html#impute\n",
    "\n",
    "From the older version of this project I made KNNImputer over surface and the null `bathrooms` were deleted.\n",
    "\n",
    "Let's try something new. Introduce the multivariate imputation. This means we are going to impute the missing values not only with the i-th feature dimension, instead use the entire set of dimensions from the data set."
   ]
  },
  {
   "cell_type": "markdown",
   "metadata": {},
   "source": [
    "#### Impute bathrooms"
   ]
  },
  {
   "cell_type": "code",
   "execution_count": 10,
   "metadata": {},
   "outputs": [],
   "source": [
    "from sklearn.experimental import enable_iterative_imputer\n",
    "from sklearn.impute import IterativeImputer\n",
    "\n",
    "def impute_multivariate(df, column):\n",
    "    df_copy = df.copy(deep = True)\n",
    "    iterativeimputer = IterativeImputer(max_iter = 10, random_state = 267)\n",
    "    imputed_variable = iterativeimputer.fit_transform(df_copy[[column]])\n",
    "    df_copy[column] = imputed_variable\n",
    "    return df_copy"
   ]
  },
  {
   "cell_type": "code",
   "execution_count": 11,
   "metadata": {},
   "outputs": [],
   "source": [
    "properati = impute_multivariate(properati, 'bathrooms')"
   ]
  },
  {
   "cell_type": "markdown",
   "metadata": {},
   "source": [
    "#### Impute surface"
   ]
  },
  {
   "cell_type": "markdown",
   "metadata": {},
   "source": [
    "We already have a function to impute any column using all feature dimensions. Also the surface variables have the same amount of null values. To avoid a mistake, let's impute the `surface_total` and use the imputed value in `surface_covered`"
   ]
  },
  {
   "cell_type": "code",
   "execution_count": 12,
   "metadata": {},
   "outputs": [],
   "source": [
    "properati = impute_multivariate(properati, 'surface_total')"
   ]
  },
  {
   "cell_type": "code",
   "execution_count": 13,
   "metadata": {},
   "outputs": [],
   "source": [
    "properati['surface_covered'] = np.where(properati['surface_covered'].isnull(), properati['surface_total'], properati['surface_covered'])"
   ]
  },
  {
   "cell_type": "markdown",
   "metadata": {},
   "source": [
    "Now, check the null values:"
   ]
  },
  {
   "cell_type": "code",
   "execution_count": 14,
   "metadata": {},
   "outputs": [],
   "source": [
    "print_null_values(properati)"
   ]
  },
  {
   "cell_type": "markdown",
   "metadata": {},
   "source": [
    "Good job 😎"
   ]
  },
  {
   "cell_type": "markdown",
   "metadata": {},
   "source": [
    "### What about outliers?"
   ]
  },
  {
   "cell_type": "markdown",
   "metadata": {},
   "source": [
    "I recommend to apply the same process from the previous notebook. First, let's visualize some boxplots over the dataset over numerical values."
   ]
  },
  {
   "cell_type": "code",
   "execution_count": 15,
   "metadata": {},
   "outputs": [
    {
     "data": {
      "image/png": "[encoded data removed]",
      "text/plain": [
       "<Figure size 1200x2000 with 6 Axes>"
      ]
     },
     "metadata": {},
     "output_type": "display_data"
    }
   ],
   "source": [
    "def plot_boxplots(dataframe):\n",
    "    columns = dataframe.columns\n",
    "    fig, axs = plt.subplots(3, 2, figsize = (12, 20))\n",
    "    fig.suptitle(\"Distribution of every variable\")\n",
    "    counter = 0 # To get the index in the list of features\n",
    "    for row in range(0,3):\n",
    "        for column in range(0,2):\n",
    "            column_name = columns[counter]\n",
    "            # Plot process:\n",
    "            sns.boxplot(ax = axs[row, column], data = dataframe, y = column_name)\n",
    "            axs[row, column].set_title(column_name)\n",
    "            counter += 1\n",
    "    plt.show()\n",
    "plot_boxplots(properati.iloc[:,2:])"
   ]
  },
  {
   "cell_type": "code",
   "execution_count": 16,
   "metadata": {},
   "outputs": [
    {
     "data": {
      "text/html": [
       "<div>\n",
       "<style scoped>\n",
       "    .dataframe tbody tr th:only-of-type {\n",
       "        vertical-align: middle;\n",
       "    }\n",
       "\n",
       "    .dataframe tbody tr th {\n",
       "        vertical-align: top;\n",
       "    }\n",
       "\n",
       "    .dataframe thead th {\n",
       "        text-align: right;\n",
       "    }\n",
       "</style>\n",
       "<table border=\"1\" class=\"dataframe\">\n",
       "  <thead>\n",
       "    <tr style=\"text-align: right;\">\n",
       "      <th></th>\n",
       "      <th>rooms</th>\n",
       "      <th>bedrooms</th>\n",
       "      <th>bathrooms</th>\n",
       "      <th>surface_total</th>\n",
       "      <th>surface_covered</th>\n",
       "      <th>price</th>\n",
       "    </tr>\n",
       "  </thead>\n",
       "  <tbody>\n",
       "    <tr>\n",
       "      <th>count</th>\n",
       "      <td>91485.000000</td>\n",
       "      <td>91485.000000</td>\n",
       "      <td>91485.000000</td>\n",
       "      <td>91485.000000</td>\n",
       "      <td>91485.000000</td>\n",
       "      <td>9.148500e+04</td>\n",
       "    </tr>\n",
       "    <tr>\n",
       "      <th>mean</th>\n",
       "      <td>2.964278</td>\n",
       "      <td>1.960278</td>\n",
       "      <td>1.560147</td>\n",
       "      <td>112.506120</td>\n",
       "      <td>94.149045</td>\n",
       "      <td>2.595003e+05</td>\n",
       "    </tr>\n",
       "    <tr>\n",
       "      <th>std</th>\n",
       "      <td>1.314704</td>\n",
       "      <td>1.072946</td>\n",
       "      <td>0.850040</td>\n",
       "      <td>931.705703</td>\n",
       "      <td>725.807649</td>\n",
       "      <td>3.222654e+05</td>\n",
       "    </tr>\n",
       "    <tr>\n",
       "      <th>min</th>\n",
       "      <td>1.000000</td>\n",
       "      <td>0.000000</td>\n",
       "      <td>1.000000</td>\n",
       "      <td>1.000000</td>\n",
       "      <td>1.000000</td>\n",
       "      <td>6.000000e+03</td>\n",
       "    </tr>\n",
       "    <tr>\n",
       "      <th>25%</th>\n",
       "      <td>2.000000</td>\n",
       "      <td>1.000000</td>\n",
       "      <td>1.000000</td>\n",
       "      <td>51.000000</td>\n",
       "      <td>46.000000</td>\n",
       "      <td>1.200000e+05</td>\n",
       "    </tr>\n",
       "    <tr>\n",
       "      <th>50%</th>\n",
       "      <td>3.000000</td>\n",
       "      <td>2.000000</td>\n",
       "      <td>1.000000</td>\n",
       "      <td>77.000000</td>\n",
       "      <td>68.000000</td>\n",
       "      <td>1.750000e+05</td>\n",
       "    </tr>\n",
       "    <tr>\n",
       "      <th>75%</th>\n",
       "      <td>4.000000</td>\n",
       "      <td>3.000000</td>\n",
       "      <td>2.000000</td>\n",
       "      <td>112.506120</td>\n",
       "      <td>112.506120</td>\n",
       "      <td>2.790000e+05</td>\n",
       "    </tr>\n",
       "    <tr>\n",
       "      <th>max</th>\n",
       "      <td>26.000000</td>\n",
       "      <td>15.000000</td>\n",
       "      <td>14.000000</td>\n",
       "      <td>126062.000000</td>\n",
       "      <td>126062.000000</td>\n",
       "      <td>3.243423e+07</td>\n",
       "    </tr>\n",
       "  </tbody>\n",
       "</table>\n",
       "</div>"
      ],
      "text/plain": [
       "              rooms      bedrooms     bathrooms  surface_total  \\\n",
       "count  91485.000000  91485.000000  91485.000000   91485.000000   \n",
       "mean       2.964278      1.960278      1.560147     112.506120   \n",
       "std        1.314704      1.072946      0.850040     931.705703   \n",
       "min        1.000000      0.000000      1.000000       1.000000   \n",
       "25%        2.000000      1.000000      1.000000      51.000000   \n",
       "50%        3.000000      2.000000      1.000000      77.000000   \n",
       "75%        4.000000      3.000000      2.000000     112.506120   \n",
       "max       26.000000     15.000000     14.000000  126062.000000   \n",
       "\n",
       "       surface_covered         price  \n",
       "count     91485.000000  9.148500e+04  \n",
       "mean         94.149045  2.595003e+05  \n",
       "std         725.807649  3.222654e+05  \n",
       "min           1.000000  6.000000e+03  \n",
       "25%          46.000000  1.200000e+05  \n",
       "50%          68.000000  1.750000e+05  \n",
       "75%         112.506120  2.790000e+05  \n",
       "max      126062.000000  3.243423e+07  "
      ]
     },
     "execution_count": 16,
     "metadata": {},
     "output_type": "execute_result"
    }
   ],
   "source": [
    "properati.describe()"
   ]
  },
  {
   "cell_type": "markdown",
   "metadata": {},
   "source": [
    "From the previous table we describe the numerical values. We can see that `price` has the higher standard deviation. So let's chop the 5% of both tails (to preserve more records):"
   ]
  },
  {
   "cell_type": "code",
   "execution_count": 17,
   "metadata": {},
   "outputs": [],
   "source": [
    "def chop_quantiles_both_tails(df, variable, size_upper):\n",
    "    df_copy = df.copy()\n",
    "    df_chopped = df_copy[(df_copy[variable] < df_copy[variable].quantile(size_upper)) & (df_copy[variable] > df_copy[variable].quantile(1 - size_upper))]\n",
    "    droped_rows = df_copy.shape[0] - df_chopped.shape[0]\n",
    "    print(f\"Where deleted {droped_rows} values a {droped_rows*100/df_copy.shape[0]:.2f}% of the data\")\n",
    "    print(f'The initial std for \"{variable}\" was: {np.std(df_copy.price):.2f}\\nAfter droping the top 5% the std is: {np.std(df_chopped.price):.2f}')\n",
    "    df_chopped.reset_index(drop = True, inplace = True)\n",
    "    return df_chopped"
   ]
  },
  {
   "cell_type": "code",
   "execution_count": 18,
   "metadata": {},
   "outputs": [
    {
     "name": "stdout",
     "output_type": "stream",
     "text": [
      "Where deleted 9151 values a 10.00% of the data\n",
      "The initial std for \"price\" was: 322263.68\n",
      "After droping the top 5% the std is: 120700.74\n"
     ]
    }
   ],
   "source": [
    "properati_reduce = chop_quantiles_both_tails(properati, 'price', 0.95)"
   ]
  },
  {
   "cell_type": "markdown",
   "metadata": {},
   "source": [
    "We have reduced more than half the std. Awesome!"
   ]
  },
  {
   "cell_type": "code",
   "execution_count": 19,
   "metadata": {},
   "outputs": [
    {
     "name": "stdout",
     "output_type": "stream",
     "text": [
      "From the previous notebook at the final stage of cleaning we had 68237 records. Now we have 82334 that means an increase of 120.66%, 14097 more records\n"
     ]
    }
   ],
   "source": [
    "notebook1 = 68237 \n",
    "notebook2 = properati_reduce.shape[0]\n",
    "\n",
    "print(f\"From the previous notebook at the final stage of cleaning we had {notebook1} records. Now we have {notebook2} \\\n",
    "that means an increase of {notebook2 / notebook1 * 100:.2f}%, {notebook2 - notebook1} more records\")"
   ]
  },
  {
   "cell_type": "markdown",
   "metadata": {},
   "source": [
    "### Data standardization"
   ]
  },
  {
   "cell_type": "markdown",
   "metadata": {},
   "source": [
    "#### Standardise"
   ]
  },
  {
   "cell_type": "markdown",
   "metadata": {},
   "source": [
    "From the documentation of scikit-learn about [preprocessing data](https://scikit-learn.org/stable/modules/preprocessing.html) is possible to apply different transformation to the data. The most common is the `StardScaler`. Remember we must leave the dependent variable untransformed. There are 2 steps:\n",
    "\n",
    "1. Slice the numerical features.\n",
    "2. Apply the transformation to the sliced dataset.\n",
    "3. Concat the transformed dataset with the price and categorical variables."
   ]
  },
  {
   "cell_type": "code",
   "execution_count": 20,
   "metadata": {},
   "outputs": [],
   "source": [
    "# 1 \n",
    "properati_num = properati_reduce.filter(['rooms','bedrooms','bathrooms','surface_total','surface_covered'], axis=1)"
   ]
  },
  {
   "cell_type": "code",
   "execution_count": 21,
   "metadata": {},
   "outputs": [],
   "source": [
    "# 2\n",
    "from sklearn.preprocessing import StandardScaler\n",
    "scaler = StandardScaler()\n",
    "data_scaled = scaler.fit_transform(properati_num)\n",
    "data_scaled = pd.DataFrame(data_scaled, columns = properati_num.columns)"
   ]
  },
  {
   "cell_type": "code",
   "execution_count": 22,
   "metadata": {},
   "outputs": [],
   "source": [
    "# 3\n",
    "properati_st = pd.concat([data_scaled, properati_reduce['property_type'], properati_reduce['price']], axis=1)"
   ]
  },
  {
   "cell_type": "markdown",
   "metadata": {},
   "source": [
    "#### One-Hot Encoding"
   ]
  },
  {
   "cell_type": "markdown",
   "metadata": {},
   "source": [
    "Do you notice any difference from the dataset of the previous notebook? Yes, sure there is. We have more records and there are two categorical variables. What for? Because we are going to use encoding techniques no use this variables in the model."
   ]
  },
  {
   "cell_type": "markdown",
   "metadata": {},
   "source": [
    "The content of this blog was really useful to encode the categorical varibles: https://pbpython.com/categorical-encoding.html"
   ]
  },
  {
   "cell_type": "markdown",
   "metadata": {},
   "source": [
    "First we need to convert the 'object' data type to 'category':"
   ]
  },
  {
   "cell_type": "code",
   "execution_count": 23,
   "metadata": {},
   "outputs": [
    {
     "data": {
      "text/plain": [
       "rooms               float64\n",
       "bedrooms            float64\n",
       "bathrooms           float64\n",
       "surface_total       float64\n",
       "surface_covered     float64\n",
       "property_type      category\n",
       "price               float64\n",
       "dtype: object"
      ]
     },
     "execution_count": 23,
     "metadata": {},
     "output_type": "execute_result"
    }
   ],
   "source": [
    "# Select object columns and cast to category\n",
    "categoricas = properati_st.select_dtypes(include=['object']).columns\n",
    "properati_st[categoricas] = properati_st[categoricas].astype('category')\n",
    "properati_st.dtypes"
   ]
  },
  {
   "cell_type": "code",
   "execution_count": 24,
   "metadata": {},
   "outputs": [
    {
     "name": "stdout",
     "output_type": "stream",
     "text": [
      "property_type\n",
      "['Departamento', 'PH', 'Casa']\n",
      "Categories (3, object): ['Casa', 'Departamento', 'PH']\n",
      "\n",
      "\n"
     ]
    }
   ],
   "source": [
    "# Let's count the amount of categories\n",
    "def count_categories(data):\n",
    "    for i in data.select_dtypes(include=['category']).columns:\n",
    "        print(i)\n",
    "        print(data[i].unique())\n",
    "        print('\\n')\n",
    "count_categories(properati_st)"
   ]
  },
  {
   "cell_type": "code",
   "execution_count": 25,
   "metadata": {},
   "outputs": [],
   "source": [
    "properatiML = pd.get_dummies (properati_st, columns = ['property_type'])"
   ]
  },
  {
   "cell_type": "code",
   "execution_count": 133,
   "metadata": {},
   "outputs": [],
   "source": [
    "# sns.pairplot(properatiML)\n",
    "# plt.show()"
   ]
  },
  {
   "cell_type": "markdown",
   "metadata": {},
   "source": [
    "Good job! We already cleaned and improve the dataset. Let's play with machine learning 🚀"
   ]
  },
  {
   "cell_type": "markdown",
   "metadata": {},
   "source": [
    "## Machine Learning"
   ]
  },
  {
   "cell_type": "markdown",
   "metadata": {
    "colab_type": "text",
    "id": "ULhoMAo_C4PP"
   },
   "source": [
    "### ML Libraries and train test set"
   ]
  },
  {
   "cell_type": "code",
   "execution_count": 26,
   "metadata": {},
   "outputs": [],
   "source": [
    "from sklearn.model_selection import train_test_split, cross_val_score\n",
    "from sklearn.metrics import(\n",
    "    make_scorer,\n",
    "    r2_score as r2,\n",
    "    mean_squared_error as mse,\n",
    "    mean_absolute_error as mae)\n",
    "from sklearn.model_selection import RandomizedSearchCV\n",
    "from sklearn.linear_model import LinearRegression\n",
    "from sklearn.tree import DecisionTreeRegressor\n",
    "from sklearn.neighbors import KNeighborsRegressor\n",
    "from sklearn.ensemble import RandomForestRegressor"
   ]
  },
  {
   "cell_type": "markdown",
   "metadata": {
    "colab_type": "text",
    "id": "ULhoMAo_C4PP"
   },
   "source": [
    "Let's separate the X variables and Y"
   ]
  },
  {
   "cell_type": "code",
   "execution_count": 27,
   "metadata": {},
   "outputs": [],
   "source": [
    "X = properatiML.drop('price', axis = 1)\n",
    "y = properatiML.price"
   ]
  },
  {
   "cell_type": "markdown",
   "metadata": {},
   "source": [
    "Use the `train_test_split` function from scikit-learn:"
   ]
  },
  {
   "cell_type": "code",
   "execution_count": 28,
   "metadata": {},
   "outputs": [
    {
     "name": "stdout",
     "output_type": "stream",
     "text": [
      "(57633, 8) (57633,) (24701, 8) (24701,)\n"
     ]
    }
   ],
   "source": [
    "X_train, X_test, y_train, y_test = train_test_split(X, y, test_size = 0.30, random_state = 267)\n",
    "print(X_train.shape, y_train.shape, X_test.shape, y_test.shape)"
   ]
  },
  {
   "cell_type": "markdown",
   "metadata": {
    "colab_type": "text",
    "id": "ULhoMAo_C4PP"
   },
   "source": [
    "### Generalized functions to efficient ML\n",
    "\n",
    "Because this is a remake, I'm doing my best by applying the DRY concept (Don't Repeat Yourself). We'll use the [results_p1.json](results_p1.json) file to compare the previous models (with no feature engineer and with less records) against an enhance data and new techniques to validate the model [Cross Validation](https://scikit-learn.org/stable/modules/cross_validation.html) and [Randomized Search Grid](https://scikit-learn.org/stable/modules/generated/sklearn.model_selection.RandomizedSearchCV.html) and also fiting a [Random Forest](https://scikit-learn.org/stable/modules/generated/sklearn.ensemble.RandomForestRegressor.html) model (Please refer scikit-learn documentation to be aware of the process we're going to do)."
   ]
  },
  {
   "cell_type": "markdown",
   "metadata": {
    "colab_type": "text",
    "id": "ULhoMAo_C4PP"
   },
   "source": [
    "I'll create a dictionary to store the results and create a `class` named `results_model` to automate the process of instantiate a model both by standard parameters or cross validation or randomized search cv.\n",
    "\n",
    "Sounds challenging! But hands on labor 👷‍♂️"
   ]
  },
  {
   "cell_type": "code",
   "execution_count": 29,
   "metadata": {},
   "outputs": [],
   "source": [
    "import json\n",
    "with open(\"results_p1.json\", 'r') as file:\n",
    "    results_p1 = json.load(file)\n",
    "results_p1 = pd.DataFrame(results_p1)"
   ]
  },
  {
   "cell_type": "code",
   "execution_count": 31,
   "metadata": {},
   "outputs": [],
   "source": [
    "class ml_model:\n",
    "    def __init__(self, model, x_train, x_test, y_train, y_test, model_name):\n",
    "        self.model = model\n",
    "        self.x_train = x_train\n",
    "        self.x_test = x_test\n",
    "        self.y_train = y_train\n",
    "        self.y_test = y_test\n",
    "        self.model_name = model_name\n",
    "\n",
    "    def init_regular_model(self):\n",
    "        self.model.fit(self.x_train, self.y_train)\n",
    "        y_train_pred = self.model.predict(self.x_train)\n",
    "        y_test_pred = self.model.predict(self.x_test)\n",
    "        mse_train = mse(self.y_train, y_train_pred)\n",
    "        mse_test = mse(self.y_test, y_test_pred)\n",
    "        rmse_train = np.sqrt(mse_train)\n",
    "        rmse_test = np.sqrt(mse_test)\n",
    "        return {\n",
    "            \"Model\": self.model_name,\n",
    "            \"RMSE Train\": rmse_train,\n",
    "            \"RMSE Test\": rmse_test,\n",
    "            \"Mean RMSE\": np.mean([rmse_train, rmse_test])\n",
    "            }\n",
    "\n",
    "    def init_cv_model(self, folds, score = mse):\n",
    "        scorer = make_scorer(score)\n",
    "        cross_lineal = cross_val_score(self.model, X = self.x_train, y = self.y_train, cv = folds, scoring = scorer)\n",
    "        # Root Square of the MSE\n",
    "        fun = lambda x : np.sqrt(x)\n",
    "        cross_lineal_rmse = fun(cross_lineal)\n",
    "        # Return variables\n",
    "        max_rmse = cross_lineal_rmse.max()\n",
    "        min_rmse = cross_lineal_rmse.min()\n",
    "        mean_rmse = cross_lineal_rmse.mean()\n",
    "        std_rmse = cross_lineal_rmse.std()\n",
    "        return {\n",
    "            \"Model\" : self.model_name,\n",
    "            \"Max RMSE\" : max_rmse ,\n",
    "            \"Min RMSE\" : min_rmse ,\n",
    "            \"Mean RMSE\" : mean_rmse ,\n",
    "            \"Std RMSE\" : std_rmse\n",
    "        }\n",
    "\n",
    "    def init_rs_cv_model(self, parameters, n_iter, cv, score = mse):\n",
    "        scorer = make_scorer(score)\n",
    "        randomsearch = RandomizedSearchCV(\n",
    "            estimator = self.model,\n",
    "            param_distributions = parameters,\n",
    "            n_iter = n_iter,\n",
    "            cv = cv,\n",
    "            verbose = 2,\n",
    "            random_state = 267,\n",
    "            n_jobs = -1,\n",
    "            scoring = scorer)\n",
    "        randomsearch.fit(self.x_train, self.y_train)\n",
    "\n",
    "        # Let's instantiate the best model and predict the rmse\n",
    "        best_estimator = randomsearch.best_estimator_\n",
    "        y_train_pred = best_estimator.predict(self.x_train)\n",
    "        y_test_pred = best_estimator.predict(self.x_test)\n",
    "        rmse_train = np.sqrt(mse(y_train, y_train_pred))\n",
    "        rmse_test = np.sqrt(mse(y_test, y_test_pred))\n",
    "        result_best_estimator = {\n",
    "            \"Model\": self.model_name,\n",
    "            \"RMSE Train\": rmse_train,\n",
    "            \"RMSE Test\": rmse_test,\n",
    "            \"Mean RMSE\": np.mean([rmse_train, rmse_test])\n",
    "            }\n",
    "\n",
    "        # Obtain the results from the CV process\n",
    "        best_params = randomsearch.best_params_\n",
    "        max_rmse = np.sqrt(randomsearch.cv_results_['mean_test_score'].max())\n",
    "        min_rmse = np.sqrt(randomsearch.cv_results_['mean_test_score'].min())\n",
    "        mean_rmse = np.sqrt(randomsearch.cv_results_['mean_test_score'].mean())\n",
    "        std_rmse = np.sqrt(randomsearch.cv_results_['mean_test_score'].std())\n",
    "        \n",
    "        result_random_search = {\n",
    "            \"Model\" : self.model_name + \" random search results\",\n",
    "            \"Best Params\": best_params,\n",
    "            \"Max RMSE\" : max_rmse ,\n",
    "            \"Min RMSE\" : min_rmse ,\n",
    "            \"Mean RMSE\" : mean_rmse ,\n",
    "            \"Std RMSE\" : std_rmse\n",
    "        }\n",
    "\n",
    "        return result_best_estimator, result_random_search"
   ]
  },
  {
   "cell_type": "markdown",
   "metadata": {
    "colab_type": "text",
    "id": "ULhoMAo_C4PP"
   },
   "source": [
    "### Linear Model (Benchmark)"
   ]
  },
  {
   "cell_type": "markdown",
   "metadata": {
    "colab_type": "text",
    "id": "ULhoMAo_C4PP"
   },
   "source": [
    "#### Regular Linear Model"
   ]
  },
  {
   "cell_type": "markdown",
   "metadata": {
    "colab_type": "text",
    "id": "ULhoMAo_C4PP"
   },
   "source": [
    "Let's our benchmark model:"
   ]
  },
  {
   "cell_type": "code",
   "execution_count": 32,
   "metadata": {},
   "outputs": [
    {
     "data": {
      "text/plain": [
       "{'Model': 'Linear p2',\n",
       " 'RMSE Train': 86839.70010932331,\n",
       " 'RMSE Test': 86957.62368323101,\n",
       " 'Mean RMSE': 86898.66189627716}"
      ]
     },
     "execution_count": 32,
     "metadata": {},
     "output_type": "execute_result"
    }
   ],
   "source": [
    "linear = ml_model(LinearRegression(), X_train, X_test, y_train, y_test, \"Linear p2\")\n",
    "results_linear = linear.init_regular_model()\n",
    "results_linear"
   ]
  },
  {
   "cell_type": "markdown",
   "metadata": {
    "colab_type": "text",
    "id": "ULhoMAo_C4PP"
   },
   "source": [
    "And compare with te previous notebook"
   ]
  },
  {
   "cell_type": "code",
   "execution_count": 33,
   "metadata": {},
   "outputs": [
    {
     "data": {
      "text/plain": [
       "Model               Linear\n",
       "RMSE Train    64127.651901\n",
       "RMSE test      63838.51668\n",
       "Mean RMSE     63983.084291\n",
       "Name: 0, dtype: object"
      ]
     },
     "execution_count": 33,
     "metadata": {},
     "output_type": "execute_result"
    }
   ],
   "source": [
    "results_p1.iloc[0,:]"
   ]
  },
  {
   "cell_type": "markdown",
   "metadata": {
    "colab_type": "text",
    "id": "ULhoMAo_C4PP"
   },
   "source": [
    "Yes, these metrics are higher than the previous notebook. However, remember there are more records, which means more bias. Use these metrics as reference for the dataset."
   ]
  },
  {
   "cell_type": "markdown",
   "metadata": {
    "colab_type": "text",
    "id": "ULhoMAo_C4PP"
   },
   "source": [
    "#### CV Linear Model"
   ]
  },
  {
   "cell_type": "code",
   "execution_count": 36,
   "metadata": {},
   "outputs": [
    {
     "data": {
      "text/plain": [
       "{'Model': 'Linear CV p2',\n",
       " 'Max RMSE': 112149.67979061313,\n",
       " 'Min RMSE': 76496.64026532456,\n",
       " 'Mean RMSE': 87058.36230906232,\n",
       " 'Std RMSE': 5199.627416824721}"
      ]
     },
     "execution_count": 36,
     "metadata": {},
     "output_type": "execute_result"
    }
   ],
   "source": [
    "linear_cv = ml_model(LinearRegression(), X_train, X_test, y_train, y_test, \"Linear CV p2\")\n",
    "results_linear_cv = linear_cv.init_cv_model(100)\n",
    "results_linear_cv"
   ]
  },
  {
   "cell_type": "markdown",
   "metadata": {
    "colab_type": "text",
    "id": "ULhoMAo_C4PP"
   },
   "source": [
    "We still have significant difference. We need to use other models. We don't implement the randomized search cv in linear models, because there are no parameters to adjust"
   ]
  },
  {
   "cell_type": "markdown",
   "metadata": {
    "colab_type": "text",
    "id": "ULhoMAo_C4PP"
   },
   "source": [
    "### Decision tree regressor (DTR)"
   ]
  },
  {
   "cell_type": "markdown",
   "metadata": {
    "colab_type": "text",
    "id": "ULhoMAo_C4PP"
   },
   "source": [
    "#### Regular DTR"
   ]
  },
  {
   "cell_type": "markdown",
   "metadata": {
    "colab_type": "text",
    "id": "ULhoMAo_C4PP"
   },
   "source": [
    "From the previous notebook we can check where place the value of depth:"
   ]
  },
  {
   "cell_type": "code",
   "execution_count": 37,
   "metadata": {},
   "outputs": [
    {
     "data": {
      "image/png": "[encoded data removed]",
      "text/plain": [
       "<Figure size 640x480 with 1 Axes>"
      ]
     },
     "metadata": {},
     "output_type": "display_data"
    },
    {
     "name": "stdout",
     "output_type": "stream",
     "text": [
      "For train data the lowest RMSE was: 38737.820 with 33 depth\n",
      "For test data the lowest RMSE was: 62070.999 with 18 depth\n"
     ]
    }
   ],
   "source": [
    "def evaluate_dtr():\n",
    "    depth = list(np.arange(1,100))\n",
    "    rmse_train_lst = []\n",
    "    rmse_test_lst = []\n",
    "\n",
    "    for i in depth:\n",
    "        dtr = ml_model(DecisionTreeRegressor(max_depth=i, random_state=267), X_train, X_test, y_train, y_test, \"DTR p2\")\n",
    "        results_dtr = dtr.init_regular_model() \n",
    "        rmse_train_lst.append(results_dtr.get(\"RMSE Train\"))\n",
    "        rmse_test_lst.append(results_dtr.get(\"RMSE Test\"))\n",
    "\n",
    "    plt.plot(depth, rmse_train_lst, 'o-', label='Train')\n",
    "    plt.plot(depth, rmse_test_lst, 'o-', label='Test')\n",
    "    plt.legend()\n",
    "    plt.xlabel('depth')\n",
    "    plt.ylabel('RMSE')\n",
    "    plt.show()\n",
    "\n",
    "    # Check the small value of RMSE in the list\n",
    "    min_train = rmse_train_lst == np.min(rmse_train_lst)\n",
    "    min_test = rmse_test_lst == np.min(rmse_test_lst)\n",
    "\n",
    "    # Obtain the ammount of depth:\n",
    "    n_train = np.where(min_train)[0][0] + 1\n",
    "    n_test = np.where(min_test)[0][0] + 1\n",
    "\n",
    "    print(f\"For train data the lowest RMSE was: {np.min(rmse_train_lst):.3f} with {n_train} depth\")\n",
    "    print(f\"For test data the lowest RMSE was: {np.min(rmse_test_lst):.3f} with {n_test} depth\")\n",
    "evaluate_dtr()"
   ]
  },
  {
   "cell_type": "markdown",
   "metadata": {},
   "source": [
    "Now let's instantiate a model with a depth of 20:"
   ]
  },
  {
   "cell_type": "code",
   "execution_count": 38,
   "metadata": {},
   "outputs": [
    {
     "data": {
      "text/plain": [
       "{'Model': 'DTR p2',\n",
       " 'RMSE Train': 41504.71839690115,\n",
       " 'RMSE Test': 62465.176590432864,\n",
       " 'Mean RMSE': 51984.94749366701}"
      ]
     },
     "execution_count": 38,
     "metadata": {},
     "output_type": "execute_result"
    }
   ],
   "source": [
    "dtr = ml_model(DecisionTreeRegressor(max_depth = 20, random_state = 267), X_train, X_test, y_train, y_test, \"DTR p2\")\n",
    "results_dtr = dtr.init_regular_model()\n",
    "results_dtr"
   ]
  },
  {
   "cell_type": "code",
   "execution_count": 39,
   "metadata": {},
   "outputs": [
    {
     "data": {
      "text/plain": [
       "Model                  KNN\n",
       "RMSE Train    44368.028048\n",
       "RMSE test     47629.817307\n",
       "Mean RMSE     45998.922677\n",
       "Name: 1, dtype: object"
      ]
     },
     "execution_count": 39,
     "metadata": {},
     "output_type": "execute_result"
    }
   ],
   "source": [
    "results_p1.iloc[1,:]"
   ]
  },
  {
   "cell_type": "markdown",
   "metadata": {},
   "source": [
    "Compared from previous notebook looks higher, but compared to the linear p2, is an improve"
   ]
  },
  {
   "cell_type": "markdown",
   "metadata": {
    "colab_type": "text",
    "id": "ULhoMAo_C4PP"
   },
   "source": [
    "#### CV DTR"
   ]
  },
  {
   "cell_type": "code",
   "execution_count": 40,
   "metadata": {},
   "outputs": [
    {
     "data": {
      "text/plain": [
       "{'Model': 'DTR CV p2',\n",
       " 'Max RMSE': 73769.5766099649,\n",
       " 'Min RMSE': 50999.61489098193,\n",
       " 'Mean RMSE': 61187.6025235598,\n",
       " 'Std RMSE': 4082.7079146098754}"
      ]
     },
     "execution_count": 40,
     "metadata": {},
     "output_type": "execute_result"
    }
   ],
   "source": [
    "dtr_cv = ml_model(DecisionTreeRegressor(max_depth = 20, random_state = 267), X_train, X_test, y_train, y_test, \"DTR CV p2\")\n",
    "results_dtr_cv = dtr_cv.init_cv_model(100)\n",
    "results_dtr_cv"
   ]
  },
  {
   "cell_type": "markdown",
   "metadata": {
    "colab_type": "text",
    "id": "ULhoMAo_C4PP"
   },
   "source": [
    "#### Randomized Search CV DTR"
   ]
  },
  {
   "cell_type": "markdown",
   "metadata": {},
   "source": [
    "We are going to use from `sklearn.model_selection` the function `RandomizedSearchCV`. This function requires a dictionary with the params to evaluate. Like this:"
   ]
  },
  {
   "cell_type": "code",
   "execution_count": 41,
   "metadata": {},
   "outputs": [],
   "source": [
    "dtr_params = {\"max_depth\": range(15,33), # The depth of the tree (how many decisions)\n",
    "             \"max_features\": range(2,100), # The number of features to consider when looking for the best split\n",
    "             \"min_samples_split\": range(2,65), # The minimum number of samples required to split an internal nod\n",
    "             \"random_state\": [42,1111,33]} # Controls the randomness of the estimator"
   ]
  },
  {
   "cell_type": "markdown",
   "metadata": {},
   "source": [
    "From this definition of params we can verify that there will be:\n",
    "\n",
    "```\n",
    "17 `depths` x 97 `max_features` x 62 `min_samples_split` x 3 `random_state` = 306714\n",
    "```\n",
    "More than a third of million of probable combination of parameters, and remember we are going to use CV, so it's going to consume time...Let's resume by doing only 500 interactions on 10 folds"
   ]
  },
  {
   "cell_type": "markdown",
   "metadata": {},
   "source": [
    "Now with parameters defined, let's run the algorith:"
   ]
  },
  {
   "cell_type": "code",
   "execution_count": 42,
   "metadata": {},
   "outputs": [
    {
     "name": "stdout",
     "output_type": "stream",
     "text": [
      "Fitting 10 folds for each of 500 candidates, totalling 5000 fits\n",
      "{'Model': 'DTR RS-CV p2', 'RMSE Train': 60203.33018054711, 'RMSE Test': 64078.41440271851, 'Mean RMSE': 62140.87229163281}\n",
      "\n",
      "\n",
      "{'Model': 'DTR RS-CV p2 random search results', 'Best Params': {'random_state': 42, 'min_samples_split': 60, 'max_features': 3, 'max_depth': 15}, 'Max RMSE': 64444.95930195197, 'Min RMSE': 61437.130922190685, 'Mean RMSE': 62281.036377252276, 'Std RMSE': 8502.089844802256}\n",
      "CPU times: total: 1min 17s\n",
      "Wall time: 2min\n"
     ]
    }
   ],
   "source": [
    "%%time\n",
    "dtr_rs_cv = ml_model(DecisionTreeRegressor(), X_train, X_test, y_train, y_test, \"DTR RS-CV p2\")\n",
    "results_dtr_rscv_best_params, results_dtr_rs_cv = dtr_rs_cv.init_rs_cv_model(dtr_params, n_iter = 500, cv = 10, score = mse)\n",
    "print(results_dtr_rscv_best_params)\n",
    "print(\"\\n\")\n",
    "print(results_dtr_rs_cv)"
   ]
  },
  {
   "cell_type": "markdown",
   "metadata": {},
   "source": [
    "We will discuss all the results at the end of the notebook. So, hold on 😁"
   ]
  },
  {
   "cell_type": "markdown",
   "metadata": {},
   "source": [
    "### KNN"
   ]
  },
  {
   "cell_type": "markdown",
   "metadata": {},
   "source": [
    "#### Regular KNN"
   ]
  },
  {
   "cell_type": "markdown",
   "metadata": {
    "colab_type": "text",
    "id": "ULhoMAo_C4PP"
   },
   "source": [
    "From the previous notebook we can check where place the value of n_neighbors:"
   ]
  },
  {
   "cell_type": "code",
   "execution_count": 44,
   "metadata": {},
   "outputs": [
    {
     "data": {
      "image/png": "[encoded data removed]",
      "text/plain": [
       "<Figure size 640x480 with 1 Axes>"
      ]
     },
     "metadata": {},
     "output_type": "display_data"
    },
    {
     "name": "stdout",
     "output_type": "stream",
     "text": [
      "For train data the lowest RMSE was: 50238.530 with 2 neighbors\n",
      "For test data the lowest RMSE was: 61636.468 with 7 neighbors\n"
     ]
    }
   ],
   "source": [
    "def evaluate_neighbors():\n",
    "    neighbors = list(np.arange(1,15))\n",
    "    rmse_train_lst = []\n",
    "    rmse_test_lst = []\n",
    "\n",
    "    for i in neighbors:\n",
    "        knn = ml_model(KNeighborsRegressor(i), X_train, X_test, y_train, y_test, \"KNN p2\")\n",
    "        results_knn = knn.init_regular_model()\n",
    "        rmse_train_lst.append(results_knn.get(\"RMSE Train\"))\n",
    "        rmse_test_lst.append(results_knn.get(\"RMSE Test\"))\n",
    "\n",
    "    plt.plot(neighbors, rmse_train_lst, 'o-', label='Train')\n",
    "    plt.plot(neighbors, rmse_test_lst, 'o-', label='Test')\n",
    "    plt.legend()\n",
    "    plt.xlabel('Neighbors')\n",
    "    plt.ylabel('RMSE')\n",
    "    plt.show()\n",
    "\n",
    "    # Check the small value of RMSE in the list\n",
    "    min_train = rmse_train_lst == np.min(rmse_train_lst)\n",
    "    min_test = rmse_test_lst == np.min(rmse_test_lst)\n",
    "\n",
    "    # Obtain the ammount of neighbors:\n",
    "    n_train = np.where(min_train)[0][0] + 1\n",
    "    n_test = np.where(min_test)[0][0] + 1\n",
    "\n",
    "    print(f\"For train data the lowest RMSE was: {np.min(rmse_train_lst):.3f} with {n_train} neighbors\")\n",
    "    print(f\"For test data the lowest RMSE was: {np.min(rmse_test_lst):.3f} with {n_test} neighbors\")\n",
    "evaluate_neighbors()"
   ]
  },
  {
   "cell_type": "markdown",
   "metadata": {},
   "source": [
    "Now let's instantiate a model with 5 neighbors as our benchmark:"
   ]
  },
  {
   "cell_type": "code",
   "execution_count": 46,
   "metadata": {},
   "outputs": [
    {
     "data": {
      "text/plain": [
       "{'Model': 'KNN p2',\n",
       " 'RMSE Train': 53784.845537808535,\n",
       " 'RMSE Test': 61805.05433428354,\n",
       " 'Mean RMSE': 57794.94993604603}"
      ]
     },
     "execution_count": 46,
     "metadata": {},
     "output_type": "execute_result"
    }
   ],
   "source": [
    "knn = ml_model(KNeighborsRegressor(5), X_train, X_test, y_train, y_test, \"KNN p2\")\n",
    "results_knn = knn.init_regular_model()\n",
    "results_knn"
   ]
  },
  {
   "cell_type": "markdown",
   "metadata": {},
   "source": [
    "#### CV KNN"
   ]
  },
  {
   "cell_type": "code",
   "execution_count": 47,
   "metadata": {},
   "outputs": [
    {
     "name": "stdout",
     "output_type": "stream",
     "text": [
      "CPU times: total: 18.7 s\n",
      "Wall time: 18.8 s\n"
     ]
    },
    {
     "data": {
      "text/plain": [
       "{'Model': 'KNN CV p2',\n",
       " 'Max RMSE': 70852.27952095757,\n",
       " 'Min RMSE': 51505.446334681175,\n",
       " 'Mean RMSE': 61912.33559240628,\n",
       " 'Std RMSE': 3773.654958774649}"
      ]
     },
     "execution_count": 47,
     "metadata": {},
     "output_type": "execute_result"
    }
   ],
   "source": [
    "%%time\n",
    "knn_cv = ml_model(KNeighborsRegressor(5), X_train, X_test, y_train, y_test, \"KNN CV p2\")\n",
    "results_knn_cv = knn_cv.init_cv_model(100)\n",
    "results_knn_cv"
   ]
  },
  {
   "cell_type": "markdown",
   "metadata": {},
   "source": [
    "#### Randomized Search CV KNN"
   ]
  },
  {
   "cell_type": "markdown",
   "metadata": {},
   "source": [
    "The parameters are extracted from [documentation](https://scikit-learn.org/stable/modules/generated/sklearn.neighbors.KNeighborsRegressor.html):"
   ]
  },
  {
   "cell_type": "code",
   "execution_count": 52,
   "metadata": {},
   "outputs": [],
   "source": [
    "knn_params = {\"n_neighbors\": range(1, 11), # Number of neighbors to use by default for kneighbors queries\n",
    "             \"leaf_size\": range(20,41) # Leaf size passed to BallTree or KDTree\n",
    "             } "
   ]
  },
  {
   "cell_type": "code",
   "execution_count": 55,
   "metadata": {},
   "outputs": [
    {
     "name": "stdout",
     "output_type": "stream",
     "text": [
      "Fitting 10 folds for each of 100 candidates, totalling 1000 fits\n",
      "{'Model': 'KNN RS-CV p2', 'RMSE Train': 53472.0923199982, 'RMSE Test': 71761.74350304328, 'Mean RMSE': 62616.91791152074}\n",
      "\n",
      "\n",
      "{'Model': 'KNN RS-CV p2 random search results', 'Best Params': {'n_neighbors': 1, 'leaf_size': 40}, 'Max RMSE': 71680.13926933156, 'Min RMSE': 62358.94099495139, 'Mean RMSE': 63557.432870783145, 'Std RMSE': 17466.130216951376}\n",
      "CPU times: total: 18.8 s\n",
      "Wall time: 3min 42s\n"
     ]
    }
   ],
   "source": [
    "%%time\n",
    "knn_rs_cv = ml_model(KNeighborsRegressor(), X_train, X_test, y_train, y_test, \"KNN RS-CV p2\")\n",
    "results_knn_rs_cv_best_params, results_knn_rs_cv = knn_rs_cv.init_rs_cv_model(knn_params, n_iter = 100, cv = 10, score = mse)\n",
    "print(results_knn_rs_cv_best_params)\n",
    "print(\"\\n\")\n",
    "print(results_knn_rs_cv)"
   ]
  },
  {
   "cell_type": "markdown",
   "metadata": {},
   "source": [
    "### Random Forest"
   ]
  },
  {
   "cell_type": "markdown",
   "metadata": {},
   "source": [
    "#### Regular Random Forest"
   ]
  },
  {
   "cell_type": "code",
   "execution_count": 57,
   "metadata": {},
   "outputs": [
    {
     "data": {
      "text/plain": [
       "{'Model': 'Random Forest p2',\n",
       " 'RMSE Train': 41702.82785555471,\n",
       " 'RMSE Test': 55882.165987141576,\n",
       " 'Mean RMSE': 48792.49692134814}"
      ]
     },
     "execution_count": 57,
     "metadata": {},
     "output_type": "execute_result"
    }
   ],
   "source": [
    "rfr = ml_model(RandomForestRegressor(max_depth = 20, random_state = 267), X_train, X_test, y_train, y_test, \"Random Forest p2\")\n",
    "results_rfr = rfr.init_regular_model()\n",
    "results_rfr"
   ]
  },
  {
   "cell_type": "markdown",
   "metadata": {},
   "source": [
    "#### CV Random Forest"
   ]
  },
  {
   "cell_type": "code",
   "execution_count": 58,
   "metadata": {},
   "outputs": [
    {
     "data": {
      "text/plain": [
       "{'Model': 'Random Forest CV p2',\n",
       " 'Max RMSE': 64074.89925779044,\n",
       " 'Min RMSE': 46757.0455671248,\n",
       " 'Mean RMSE': 55255.47375689736,\n",
       " 'Std RMSE': 3381.077538921764}"
      ]
     },
     "execution_count": 58,
     "metadata": {},
     "output_type": "execute_result"
    }
   ],
   "source": [
    "rfr_cv = ml_model(RandomForestRegressor(max_depth = 20, random_state = 267), X_train, X_test, y_train, y_test, \"Random Forest CV p2\")\n",
    "results_rfr_cv = rfr_cv.init_cv_model(100)\n",
    "results_rfr_cv"
   ]
  },
  {
   "cell_type": "markdown",
   "metadata": {},
   "source": [
    "#### Randomized Search CV Random Forest"
   ]
  },
  {
   "cell_type": "markdown",
   "metadata": {},
   "source": [
    "Now that we know how to use the Randomized Search, it can be used with any machine learning model. So this must be simple."
   ]
  },
  {
   "cell_type": "code",
   "execution_count": 59,
   "metadata": {},
   "outputs": [],
   "source": [
    "rfr_parameters = {\"max_depth\" : range(15,33), # The maximum depth of the tre\n",
    "              \"n_estimators\" : [10, 30, 50, 70, 100], # The number of trees in the forest\n",
    "             \"min_samples_split\" : range(2,65), # The minimum number of samples required to split an internal node\n",
    "             \"random_state\" : [42,1111,33]} # Controls the randomness of the estimator"
   ]
  },
  {
   "cell_type": "markdown",
   "metadata": {},
   "source": [
    "From this definition of params we can verify that there will be:\n",
    "\n",
    "```\n",
    "17 `depths` x 5 `n_estimators` x 62 `min_samples_split` x 3 `random_state` = 15810\n",
    "```\n",
    "\n",
    "There are less than the DTR, let's do it by 300 iterations, the Random Forest requires more compute processing!"
   ]
  },
  {
   "cell_type": "code",
   "execution_count": 62,
   "metadata": {},
   "outputs": [
    {
     "name": "stdout",
     "output_type": "stream",
     "text": [
      "{'Model': 'Random Forest RS-CV p2', 'RMSE Train': 57209.6502604759, 'RMSE Test': 61095.635663264635, 'Mean RMSE': 59152.64296187027}\n",
      "\n",
      "\n",
      "{'Model': 'Random Forest RS-CV p2 random search results', 'Best Params': {'random_state': 42, 'n_estimators': 10, 'min_samples_split': 60, 'max_depth': 19}, 'Max RMSE': 61391.27779910487, 'Min RMSE': 56101.42364158076, 'Mean RMSE': 59362.11134379757, 'Std RMSE': 13214.92067249729}\n",
      "CPU times: total: 0 ns\n",
      "Wall time: 0 ns\n"
     ]
    }
   ],
   "source": [
    "%%time\n",
    "rfr_rs_cv = ml_model(RandomForestRegressor(), X_train, X_test, y_train, y_test, \"Random Forest RS-CV p2\")\n",
    "results_rfr_rs_cv_best_params, results_rfr_rs_cv = rfr_rs_cv.init_rs_cv_model(rfr_parameters, n_iter = 100, cv = 10, score = mse)\n",
    "print(results_rfr_rs_cv_best_params)\n",
    "print(\"\\n\")\n",
    "print(results_rfr_rs_cv)"
   ]
  },
  {
   "cell_type": "markdown",
   "metadata": {},
   "source": [
    "## Compare results"
   ]
  },
  {
   "cell_type": "markdown",
   "metadata": {},
   "source": [
    "As a DRY mantra, create a function to join the results from regular, cv, and random search cv:"
   ]
  },
  {
   "cell_type": "code",
   "execution_count": 101,
   "metadata": {},
   "outputs": [],
   "source": [
    "def select_type(type):\n",
    "    if type == \"regular\":\n",
    "        return [\"Model\", \"RMSE Train\", \"RMSE Test\", \"Mean RMSE\"]\n",
    "    elif type == \"cv\":\n",
    "        return [\"Model\", \"Max RMSE\", \"Min RMSE\", \"Mean RMSE\", \"Std RMSE\"]\n",
    "    elif type == \"rs-cv\":\n",
    "        return [\"Model\", \"Best Params\", \"Max RMSE\", \"Min RMSE\", \"Mean RMSE\", \"Std RMSE\"]\n",
    "    else:\n",
    "        print(\"You must select a valid type\")\n",
    "\n",
    "def summarize_results(type, **kwargs):\n",
    "    columns = select_type(type)\n",
    "    results = pd.DataFrame(columns = columns)\n",
    "    for _, dictio in kwargs.items():\n",
    "        input_result = {key : [element] for key, element in dictio.items()}\n",
    "        element_df = pd.DataFrame.from_dict(input_result)\n",
    "        results = pd.concat([results, element_df], axis = 0)\n",
    "    return results"
   ]
  },
  {
   "cell_type": "markdown",
   "metadata": {},
   "source": [
    "### Regular models"
   ]
  },
  {
   "cell_type": "code",
   "execution_count": 104,
   "metadata": {},
   "outputs": [
    {
     "data": {
      "text/html": [
       "<div>\n",
       "<style scoped>\n",
       "    .dataframe tbody tr th:only-of-type {\n",
       "        vertical-align: middle;\n",
       "    }\n",
       "\n",
       "    .dataframe tbody tr th {\n",
       "        vertical-align: top;\n",
       "    }\n",
       "\n",
       "    .dataframe thead th {\n",
       "        text-align: right;\n",
       "    }\n",
       "</style>\n",
       "<table border=\"1\" class=\"dataframe\">\n",
       "  <thead>\n",
       "    <tr style=\"text-align: right;\">\n",
       "      <th></th>\n",
       "      <th>Model</th>\n",
       "      <th>RMSE Train</th>\n",
       "      <th>RMSE Test</th>\n",
       "      <th>Mean RMSE</th>\n",
       "    </tr>\n",
       "  </thead>\n",
       "  <tbody>\n",
       "    <tr>\n",
       "      <th>0</th>\n",
       "      <td>Linear p2</td>\n",
       "      <td>86839.700109</td>\n",
       "      <td>86957.623683</td>\n",
       "      <td>86898.661896</td>\n",
       "    </tr>\n",
       "    <tr>\n",
       "      <th>0</th>\n",
       "      <td>DTR p2</td>\n",
       "      <td>41504.718397</td>\n",
       "      <td>62465.176590</td>\n",
       "      <td>51984.947494</td>\n",
       "    </tr>\n",
       "    <tr>\n",
       "      <th>0</th>\n",
       "      <td>KNN p2</td>\n",
       "      <td>53784.845538</td>\n",
       "      <td>61805.054334</td>\n",
       "      <td>57794.949936</td>\n",
       "    </tr>\n",
       "    <tr>\n",
       "      <th>0</th>\n",
       "      <td>Random Forest p2</td>\n",
       "      <td>41702.827856</td>\n",
       "      <td>55882.165987</td>\n",
       "      <td>48792.496921</td>\n",
       "    </tr>\n",
       "  </tbody>\n",
       "</table>\n",
       "</div>"
      ],
      "text/plain": [
       "              Model    RMSE Train     RMSE Test     Mean RMSE\n",
       "0         Linear p2  86839.700109  86957.623683  86898.661896\n",
       "0            DTR p2  41504.718397  62465.176590  51984.947494\n",
       "0            KNN p2  53784.845538  61805.054334  57794.949936\n",
       "0  Random Forest p2  41702.827856  55882.165987  48792.496921"
      ]
     },
     "execution_count": 104,
     "metadata": {},
     "output_type": "execute_result"
    }
   ],
   "source": [
    "results_p2_regular = summarize_results(\"regular\", linear = results_linear, dtr = results_dtr, knn = results_knn, rfr = results_rfr)\n",
    "results_p2_regular"
   ]
  },
  {
   "cell_type": "markdown",
   "metadata": {},
   "source": [
    "### CV models"
   ]
  },
  {
   "cell_type": "code",
   "execution_count": 105,
   "metadata": {},
   "outputs": [
    {
     "data": {
      "text/html": [
       "<div>\n",
       "<style scoped>\n",
       "    .dataframe tbody tr th:only-of-type {\n",
       "        vertical-align: middle;\n",
       "    }\n",
       "\n",
       "    .dataframe tbody tr th {\n",
       "        vertical-align: top;\n",
       "    }\n",
       "\n",
       "    .dataframe thead th {\n",
       "        text-align: right;\n",
       "    }\n",
       "</style>\n",
       "<table border=\"1\" class=\"dataframe\">\n",
       "  <thead>\n",
       "    <tr style=\"text-align: right;\">\n",
       "      <th></th>\n",
       "      <th>Model</th>\n",
       "      <th>Max RMSE</th>\n",
       "      <th>Min RMSE</th>\n",
       "      <th>Mean RMSE</th>\n",
       "      <th>Std RMSE</th>\n",
       "    </tr>\n",
       "  </thead>\n",
       "  <tbody>\n",
       "    <tr>\n",
       "      <th>0</th>\n",
       "      <td>Linear CV p2</td>\n",
       "      <td>112149.679791</td>\n",
       "      <td>76496.640265</td>\n",
       "      <td>87058.362309</td>\n",
       "      <td>5199.627417</td>\n",
       "    </tr>\n",
       "    <tr>\n",
       "      <th>0</th>\n",
       "      <td>DTR CV p2</td>\n",
       "      <td>73769.576610</td>\n",
       "      <td>50999.614891</td>\n",
       "      <td>61187.602524</td>\n",
       "      <td>4082.707915</td>\n",
       "    </tr>\n",
       "    <tr>\n",
       "      <th>0</th>\n",
       "      <td>KNN CV p2</td>\n",
       "      <td>70852.279521</td>\n",
       "      <td>51505.446335</td>\n",
       "      <td>61912.335592</td>\n",
       "      <td>3773.654959</td>\n",
       "    </tr>\n",
       "    <tr>\n",
       "      <th>0</th>\n",
       "      <td>Random Forest CV p2</td>\n",
       "      <td>64074.899258</td>\n",
       "      <td>46757.045567</td>\n",
       "      <td>55255.473757</td>\n",
       "      <td>3381.077539</td>\n",
       "    </tr>\n",
       "  </tbody>\n",
       "</table>\n",
       "</div>"
      ],
      "text/plain": [
       "                 Model       Max RMSE      Min RMSE     Mean RMSE     Std RMSE\n",
       "0         Linear CV p2  112149.679791  76496.640265  87058.362309  5199.627417\n",
       "0            DTR CV p2   73769.576610  50999.614891  61187.602524  4082.707915\n",
       "0            KNN CV p2   70852.279521  51505.446335  61912.335592  3773.654959\n",
       "0  Random Forest CV p2   64074.899258  46757.045567  55255.473757  3381.077539"
      ]
     },
     "execution_count": 105,
     "metadata": {},
     "output_type": "execute_result"
    }
   ],
   "source": [
    "results_p2_cv = summarize_results(\"cv\", linear = results_linear_cv, dtr = results_dtr_cv, knn = results_knn_cv, rfr = results_rfr_cv)\n",
    "results_p2_cv"
   ]
  },
  {
   "cell_type": "markdown",
   "metadata": {},
   "source": [
    "### Random Search CV models"
   ]
  },
  {
   "cell_type": "code",
   "execution_count": 107,
   "metadata": {},
   "outputs": [
    {
     "data": {
      "text/html": [
       "<div>\n",
       "<style scoped>\n",
       "    .dataframe tbody tr th:only-of-type {\n",
       "        vertical-align: middle;\n",
       "    }\n",
       "\n",
       "    .dataframe tbody tr th {\n",
       "        vertical-align: top;\n",
       "    }\n",
       "\n",
       "    .dataframe thead th {\n",
       "        text-align: right;\n",
       "    }\n",
       "</style>\n",
       "<table border=\"1\" class=\"dataframe\">\n",
       "  <thead>\n",
       "    <tr style=\"text-align: right;\">\n",
       "      <th></th>\n",
       "      <th>Model</th>\n",
       "      <th>Best Params</th>\n",
       "      <th>Max RMSE</th>\n",
       "      <th>Min RMSE</th>\n",
       "      <th>Mean RMSE</th>\n",
       "      <th>Std RMSE</th>\n",
       "    </tr>\n",
       "  </thead>\n",
       "  <tbody>\n",
       "    <tr>\n",
       "      <th>0</th>\n",
       "      <td>DTR RS-CV p2 random search results</td>\n",
       "      <td>{'random_state': 42, 'min_samples_split': 60, ...</td>\n",
       "      <td>64444.959302</td>\n",
       "      <td>61437.130922</td>\n",
       "      <td>62281.036377</td>\n",
       "      <td>8502.089845</td>\n",
       "    </tr>\n",
       "    <tr>\n",
       "      <th>0</th>\n",
       "      <td>KNN RS-CV p2 random search results</td>\n",
       "      <td>{'n_neighbors': 1, 'leaf_size': 40}</td>\n",
       "      <td>71680.139269</td>\n",
       "      <td>62358.940995</td>\n",
       "      <td>63557.432871</td>\n",
       "      <td>17466.130217</td>\n",
       "    </tr>\n",
       "    <tr>\n",
       "      <th>0</th>\n",
       "      <td>Random Forest RS-CV p2 random search results</td>\n",
       "      <td>{'random_state': 42, 'n_estimators': 10, 'min_...</td>\n",
       "      <td>61391.277799</td>\n",
       "      <td>56101.423642</td>\n",
       "      <td>59362.111344</td>\n",
       "      <td>13214.920672</td>\n",
       "    </tr>\n",
       "  </tbody>\n",
       "</table>\n",
       "</div>"
      ],
      "text/plain": [
       "                                          Model  \\\n",
       "0            DTR RS-CV p2 random search results   \n",
       "0            KNN RS-CV p2 random search results   \n",
       "0  Random Forest RS-CV p2 random search results   \n",
       "\n",
       "                                         Best Params      Max RMSE  \\\n",
       "0  {'random_state': 42, 'min_samples_split': 60, ...  64444.959302   \n",
       "0                {'n_neighbors': 1, 'leaf_size': 40}  71680.139269   \n",
       "0  {'random_state': 42, 'n_estimators': 10, 'min_...  61391.277799   \n",
       "\n",
       "       Min RMSE     Mean RMSE      Std RMSE  \n",
       "0  61437.130922  62281.036377   8502.089845  \n",
       "0  62358.940995  63557.432871  17466.130217  \n",
       "0  56101.423642  59362.111344  13214.920672  "
      ]
     },
     "execution_count": 107,
     "metadata": {},
     "output_type": "execute_result"
    }
   ],
   "source": [
    "results_p2_rs_cv = summarize_results(\"rs-cv\", dtr = results_dtr_rs_cv, knn = results_knn_rs_cv, rfr = results_rfr_rs_cv)\n",
    "results_p2_rs_cv"
   ]
  },
  {
   "cell_type": "code",
   "execution_count": 110,
   "metadata": {},
   "outputs": [
    {
     "data": {
      "text/html": [
       "<div>\n",
       "<style scoped>\n",
       "    .dataframe tbody tr th:only-of-type {\n",
       "        vertical-align: middle;\n",
       "    }\n",
       "\n",
       "    .dataframe tbody tr th {\n",
       "        vertical-align: top;\n",
       "    }\n",
       "\n",
       "    .dataframe thead th {\n",
       "        text-align: right;\n",
       "    }\n",
       "</style>\n",
       "<table border=\"1\" class=\"dataframe\">\n",
       "  <thead>\n",
       "    <tr style=\"text-align: right;\">\n",
       "      <th></th>\n",
       "      <th>Model</th>\n",
       "      <th>RMSE Train</th>\n",
       "      <th>RMSE test</th>\n",
       "      <th>Mean RMSE</th>\n",
       "    </tr>\n",
       "  </thead>\n",
       "  <tbody>\n",
       "    <tr>\n",
       "      <th>0</th>\n",
       "      <td>Linear</td>\n",
       "      <td>64127.651901</td>\n",
       "      <td>63838.516680</td>\n",
       "      <td>63983.084291</td>\n",
       "    </tr>\n",
       "    <tr>\n",
       "      <th>1</th>\n",
       "      <td>KNN</td>\n",
       "      <td>44368.028048</td>\n",
       "      <td>47629.817307</td>\n",
       "      <td>45998.922677</td>\n",
       "    </tr>\n",
       "    <tr>\n",
       "      <th>2</th>\n",
       "      <td>Tree Decision</td>\n",
       "      <td>32045.310232</td>\n",
       "      <td>48164.178912</td>\n",
       "      <td>40104.744572</td>\n",
       "    </tr>\n",
       "  </tbody>\n",
       "</table>\n",
       "</div>"
      ],
      "text/plain": [
       "           Model    RMSE Train     RMSE test     Mean RMSE\n",
       "0         Linear  64127.651901  63838.516680  63983.084291\n",
       "1            KNN  44368.028048  47629.817307  45998.922677\n",
       "2  Tree Decision  32045.310232  48164.178912  40104.744572"
      ]
     },
     "execution_count": 110,
     "metadata": {},
     "output_type": "execute_result"
    }
   ],
   "source": [
    "results_p1"
   ]
  },
  {
   "cell_type": "markdown",
   "metadata": {},
   "source": [
    "Awesome!!! 👏\n",
    "\n",
    "That was a challenge. We used the POO paradigm to solve this issue faster than we thought. I'll let you explore the results and conclude by yourself. Remember we did 3 kinds of evaluation over 4 models (except for linear): The regular fit over the model (experimenting with one parameter), the cross validation where there are different subsets of evaluation and random search with cross validation, which is a hyperparameter tuning plus cross validation.\n",
    "\n",
    "For me the best model is the Random Forest in every scenario. Compared the results from previous notebook, although there are no improvements in raw metrics, when we inspect the overall dataset, where we perform a feature engineer, data imputation and standardize, we found more records, which mean more bias, thus, the metrics to evaluate the models (RMSE) will increase.\n",
    "\n",
    "This is open source code, so you can use it, but remember to be etic and if is possibly, cite it.©"
   ]
  }
 ],
 "metadata": {
  "kernelspec": {
   "display_name": "Python 3.9.13 ('acamica')",
   "language": "python",
   "name": "python3"
  },
  "language_info": {
   "codemirror_mode": {
    "name": "ipython",
    "version": 3
   },
   "file_extension": ".py",
   "mimetype": "text/x-python",
   "name": "python",
   "nbconvert_exporter": "python",
   "pygments_lexer": "ipython3",
   "version": "3.9.13"
  },
  "vscode": {
   "interpreter": {
    "hash": "ed2901910d3f349b4a5ac308aa06270cd7bf6361010dd972b39a217361307e48"
   }
  }
 },
 "nbformat": 4,
 "nbformat_minor": 4
}
